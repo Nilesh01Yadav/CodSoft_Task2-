{
 "cells": [
  {
   "cell_type": "markdown",
   "id": "301a491e-2b17-4b0f-871f-508351ab9002",
   "metadata": {},
   "source": [
    "# Contact Book Using Python "
   ]
  },
  {
   "cell_type": "code",
   "execution_count": null,
   "id": "55d2b3a1-b212-4389-8b49-05bc08cc138e",
   "metadata": {},
   "outputs": [
    {
     "name": "stdin",
     "output_type": "stream",
     "text": [
      "Select the Option like 1 or 2 or 3 or 4 or 5 or :\n",
      "\n",
      "1. Add new contect: \n",
      "\n",
      " 2. Search Contect: \n",
      "\n",
      " 3. Display Contect: \n",
      "\n",
      "  4.Edit contect: \n",
      "\n",
      " 5. Delete contect: \n",
      "\n",
      " 6. Exit: \n",
      "\n",
      "  1\n",
      "Enter the contect name:- ghjk\n",
      "Enter phone number:- 456+\n"
     ]
    }
   ],
   "source": [
    "contact={}\n",
    "\n",
    "# define function dispalay_contact ...\n",
    "\n",
    "def display_contact():\n",
    "    print(\"Name\\t\\tContact Number\")\n",
    "    for key in contact:\n",
    "        print(\"{}\\t\\t{}\".format(key,contact.get(key)))\n",
    "\n",
    "# Using while loop and Conditional statement ......\n",
    "\n",
    "while True:\n",
    "    choice=int(input(\"Select the Option like 1 or 2 or 3 or 4 or 5 or :\\n\\n1. Add new contect: \\n\\n 2. Search Contect: \\n\\n 3. Display Contect: \\n\\n  4.Edit contect: \\n\\n 5. Delete contect: \\n\\n 6. Exit: \\n\\n \"))\n",
    "    if choice==1:\n",
    "        name=input(\"Enter the contect name:-\")\n",
    "        phone=input(\"Enter phone number:-\")\n",
    "        contact[name]=phone\n",
    "\n",
    "    elif choice ==2:\n",
    "        search_name=input(\"Candidate Name is:-\")\n",
    "        if search_name in contect:\n",
    "            print(search_name,\"Candidate contect number is:-\\n\\n\",contact[search_name])\n",
    "         \n",
    "        else:\n",
    "            print(\"Name is not found in contect book:-\")\n",
    "\n",
    "    elif choice==3:\n",
    "        if not contact:\n",
    "            print(\"Empty contect book:-\")\n",
    "        else:\n",
    "            display_contact()\n",
    "    elif choice==4:\n",
    "        edit_contact=input(\"Enter the contact to be Edited:-\")\n",
    "        if edit_contact in contact:\n",
    "            phone=input(\"Enter mobile number:-\")\n",
    "            contact[edi_contact]=phone\n",
    "            print(\"Contact Update:-\")\n",
    "            display_contact()\n",
    "        else:\n",
    "            print(\"Name is not found in contact book:-\")\n",
    "\n",
    "    elif choice==5:\n",
    "        del_contact=input(\"Enter the contact to be deleted:-\")\n",
    "        if del_contact in contact:\n",
    "            confirm=input(\"Do you want to delete this contact y/n? :-\")\n",
    "            if confirm=='y' or confirm=='Y':\n",
    "                contact.pop(del_contact)\n",
    "            display_contact()\n",
    "\n",
    "        else:\n",
    "            print(\"Name is not found in contact book:-\")\n",
    "\n",
    "    else:\n",
    "        break\n"
   ]
  },
  {
   "cell_type": "markdown",
   "id": "1dcd70c2-5dcb-4ea3-81d1-b6c45dc3a343",
   "metadata": {},
   "source": [
    "###### "
   ]
  }
 ],
 "metadata": {
  "kernelspec": {
   "display_name": "Python 3 (ipykernel)",
   "language": "python",
   "name": "python3"
  },
  "language_info": {
   "codemirror_mode": {
    "name": "ipython",
    "version": 3
   },
   "file_extension": ".py",
   "mimetype": "text/x-python",
   "name": "python",
   "nbconvert_exporter": "python",
   "pygments_lexer": "ipython3",
   "version": "3.12.4"
  }
 },
 "nbformat": 4,
 "nbformat_minor": 5
}
